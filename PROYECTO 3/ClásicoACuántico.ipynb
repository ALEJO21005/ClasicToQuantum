{
 "cells": [
  {
   "cell_type": "markdown",
   "metadata": {},
   "source": [
    "# FUNCIONES ESENCIALES"
   ]
  },
  {
   "cell_type": "code",
   "execution_count": null,
   "metadata": {},
   "outputs": [],
   "source": [
    "\n",
    "import numpy as np\n",
    "\n",
    "def normalizar_vector(vector):\n",
    "    norma = np.linalg.norm(vector)\n",
    "    vector_normalizado = vector / norma\n",
    "    return vector_normalizado\n",
    "\n",
    "def probabilidad_observacion(vector, pos):\n",
    "    vector = normalizar_vector(vector)\n",
    "    posi = vector[pos]\n",
    "    probabilidad = np.abs(posi)**2\n",
    "    return probabilidad\n",
    "\n",
    "def amplitud_trans(v1,v2):\n",
    "    v1 = normalizar_vector(v1)\n",
    "    v2 = normalizar_vector(v2)\n",
    "\n",
    "    braV1 = np.conjugate(v1).T\n",
    "    producto_interno = np.vdot(braV1,v2)\n",
    "    probabilidad = np.abs(producto_interno)**2\n",
    "    return probabilidad"
   ]
  },
  {
   "cell_type": "markdown",
   "metadata": {},
   "source": [
    "# Ejercicio 1.\n",
    "El sistema debe calcular la probabilidad de encontrarlo en una posición en particular"
   ]
  },
  {
   "cell_type": "code",
   "execution_count": 19,
   "metadata": {},
   "outputs": [
    {
     "name": "stdout",
     "output_type": "stream",
     "text": [
      "0.05263157894736841\n"
     ]
    }
   ],
   "source": [
    "if __name__ == \"__main__\":\n",
    "    print(probabilidad_observacion(np.array([-3-1j,-2j,1j,2]), 2))"
   ]
  },
  {
   "cell_type": "markdown",
   "metadata": {},
   "source": [
    "# Ejercicio 2\n",
    "El sistema si se le da otro vector ket debe buscar la probabilidad de transitar del primer vector al segundo."
   ]
  },
  {
   "cell_type": "code",
   "execution_count": 24,
   "metadata": {},
   "outputs": [
    {
     "name": "stdout",
     "output_type": "stream",
     "text": [
      "0.03200000000000001\n"
     ]
    }
   ],
   "source": [
    "if __name__ == \"__main__\":\n",
    "    print(amplitud_trans(np.array([4j, 3]),np.array([2,-5j])))"
   ]
  },
  {
   "cell_type": "markdown",
   "metadata": {},
   "source": [
    "# Complete los retos de programación del capítulo 4.\n",
    "### 1. Amplitud de transición. El sistema puede recibir dos vectores y calcular la probabilidad de transitar de el uno al otro después de hacer la observación\n"
   ]
  },
  {
   "cell_type": "code",
   "execution_count": 26,
   "metadata": {},
   "outputs": [
    {
     "name": "stdout",
     "output_type": "stream",
     "text": [
      "0.5604155276107161\n"
     ]
    }
   ],
   "source": [
    "if __name__ == \"__main__\": \n",
    "    print(amplitud_trans(np.array([4j,3,7,9j]), np.array([2,-5j,8,-5j])))"
   ]
  },
  {
   "cell_type": "markdown",
   "metadata": {},
   "source": [
    "### 2. Ahora con una matriz que describa un observable y un vector ket, el sistema revisa que la matriz sea hermitiana, y si lo es, calcula la media y la varianza del observable en el estado dado."
   ]
  },
  {
   "cell_type": "code",
   "execution_count": 28,
   "metadata": {},
   "outputs": [
    {
     "name": "stdout",
     "output_type": "stream",
     "text": [
      "la media es:  (2.5000000000000004+0j)\n",
      "La varianza es:  (0.25+0j)\n"
     ]
    }
   ],
   "source": [
    "import numpy as np\n",
    "import math\n",
    " \n",
    "def esHermitania(m1):\n",
    "    m1_adjunta = m1.conj().T\n",
    "    return np.allclose(m1,m1_adjunta)\n",
    " \n",
    " \n",
    "def delta(m1, valor_esperado):\n",
    "    I = np.array([[1,0],[0,1]])\n",
    "    return m1 - valor_esperado * I\n",
    "   \n",
    "def varianza(delta,v1):\n",
    "    delta_cuadrado = np.dot(delta,delta)\n",
    "    mult = np.dot(delta_cuadrado,v1)\n",
    "   \n",
    "    varianza = np.vdot(v1,mult)\n",
    "    return varianza\n",
    " \n",
    "def main():\n",
    "    v1 = np.array([math.sqrt(2)/2 , (math.sqrt(2)/2)*1j])\n",
    "    m1 = np.array([[1,-1j],[1j,2]])\n",
    "    if(esHermitania(m1)):\n",
    "        mult = np.dot(m1,v1)\n",
    "        valor_esperado = np.vdot(mult,v1)\n",
    "        print(\"la media es: \", valor_esperado)\n",
    "       \n",
    "        delta_matriz = delta(m1, valor_esperado)\n",
    "        var = varianza(delta_matriz,v1)\n",
    "   \n",
    "        print(\"La varianza es: \", var)\n",
    "    else:\n",
    "        print(\"La matriz no es hermitania.\")\n",
    "main()"
   ]
  },
  {
   "cell_type": "markdown",
   "metadata": {},
   "source": [
    "### 3. El sistema calcula los valores propios del observable y la probabilidad de que el sistema transite a alguno de los vectores propios después de la observación."
   ]
  },
  {
   "cell_type": "code",
   "execution_count": null,
   "metadata": {},
   "outputs": [],
   "source": [
    "v1 = np.array([-1,-1-1j])\n",
    "omega = np.array([[-1,-1j],[1j, 1]])\n",
    " \n",
    "omegav = np.dot(omega,v1)\n",
    " \n",
    "valores_propios, vectores_propios = np.linalg.eig(omega)\n",
    "print(valores_propios)\n",
    "print(vectores_propios)\n",
    " \n",
    "phi = np.array([1/2,1/2])\n",
    " \n",
    "normalizar = phi/ np.linalg.norm(phi)\n",
    "bra = normalizar.conj().T\n",
    " \n",
    "p1 = np.abs(np.vdot(bra,vectores_propios[0]))**2\n",
    " \n",
    "print(\"Probabilidad p1:\", p1)\n",
    " \n",
    " "
   ]
  },
  {
   "cell_type": "markdown",
   "metadata": {},
   "source": [
    "### 4. Se considera la dinámica del sistema. Ahora con una serie de matrices Un el sistema calcula el estado final a partir de un estado inicial."
   ]
  },
  {
   "cell_type": "code",
   "execution_count": 27,
   "metadata": {},
   "outputs": [
    {
     "name": "stdout",
     "output_type": "stream",
     "text": [
      "[0.70710678 0.70710678]\n"
     ]
    }
   ],
   "source": [
    "def serie_matrices(vector, matriz_U):\n",
    "    estado_inicial = vector\n",
    "    for i in matriz_U:\n",
    "        estado_inicial = np.dot(i, estado_inicial)\n",
    "    return estado_inicial\n",
    "\n",
    "\n",
    "def es_unitaria(matriz):\n",
    "    unitaria = np.allclose(np.dot(np.conjugate(matriz).T , matriz), np.eye(matriz.shape[0]))\n",
    "    return unitaria\n",
    "\n",
    "if __name__ == \"__main__\":\n",
    "    vector_inicial = np.array([1/ np.sqrt(2), 1/ np.sqrt(2)])\n",
    "    matriz_U1 = np.array([[0,1], [1,0]])\n",
    "    matriz_U2 = np.array([[1,0], [0,1]])\n",
    "    matrices_U = [matriz_U1, matriz_U2] \n",
    "\n",
    "    estado_final = serie_matrices(vector_inicial, matrices_U)\n",
    "    print(estado_final)    "
   ]
  },
  {
   "cell_type": "markdown",
   "metadata": {},
   "source": [
    "# Realice los siguientes problemas e incluyalos como ejemplos\n",
    "\n",
    "### Modele en su librería los problemas\n",
    "### 4.3.1"
   ]
  },
  {
   "cell_type": "markdown",
   "metadata": {},
   "source": [
    "## Demostración de Estados de Transición y Probabilidades\n",
    "1. ## **Probabilidad de Transición a un Eigenvector Específico**:\n",
    "  La probabilidad de que un estado inicial normalizado ∣ψ⟩ transite a un eigenvector |e⟩ es:\n",
    "  ### P(∣e⟩∣ψ⟩) = ∣⟨e∣ψ⟩∣^2\n",
    "2. ## :\n",
    "  ∣ψ⟩ se puede expresar como una combinación lineal de eigenvectores:\n",
    "  ### ∣ψ⟩ = C0 ∣e0⟩ +  C1 ∣e1⟩\n",
    "3. ## :\n",
    "  El valor medio de un observable A es:\n",
    "  ### ⟨A^⟩ψ =⟨ψ∣ A ∣ψ⟩=∣c0∣^2 λ0 + ∣c1∣^2 λ1 +…+∣cn−1∣^2 λn-1 \n",
    "4. ## **Verificación de la Identidad**:\n",
    "  Se verifica que:\n",
    "  ### ⟨ψ∣ψ⟩=∣c0∣^2 + ∣c1∣^2 +…+ ∣cn−1∣^2 = 1\n",
    "  Y el valor medio se puede expresar como: \n",
    "  ### ⟨A^⟩ψ =⟨ψ∣ A ∣ψ⟩=∣c0∣^2 λ0 + ∣c1∣^2 λ1 +…+∣cn−1∣^2 λn-1 "
   ]
  },
  {
   "cell_type": "markdown",
   "metadata": {},
   "source": [
    "## 4.4.1"
   ]
  },
  {
   "cell_type": "code",
   "execution_count": 50,
   "metadata": {},
   "outputs": [
    {
     "name": "stdout",
     "output_type": "stream",
     "text": [
      "U1 es unitaria: True\n",
      "U2 es unitaria: True\n",
      "U1*U2 es unitaria: True\n"
     ]
    }
   ],
   "source": [
    "u1 = np.array([[0,1],[1,0]])\n",
    "u2 = np.array([[math.sqrt(2)/2,(math.sqrt(2)/2)],[math.sqrt(2)/2,-(math.sqrt(2)/2)]])\n",
    "u2u1 = np.dot(u1,u2)\n",
    " \n",
    "def es_unitaria(u):\n",
    "   \n",
    "    u_conjugada_transpuesta = np.conjugate(u).T\n",
    "    producto = np.dot(u, u_conjugada_transpuesta)\n",
    "    identidad = np.eye(u.shape[0])\n",
    "    return np.allclose(producto, identidad)\n",
    " \n",
    "# Comprobación de la unitariedad\n",
    "print(\"U1 es unitaria:\", es_unitaria(u1))\n",
    "print(\"U2 es unitaria:\", es_unitaria(u2))\n",
    "print(\"U1*U2 es unitaria:\", es_unitaria(u2u1))"
   ]
  },
  {
   "cell_type": "markdown",
   "metadata": {},
   "source": [
    "## 4.4.2"
   ]
  },
  {
   "cell_type": "code",
   "execution_count": 51,
   "metadata": {},
   "outputs": [
    {
     "name": "stdout",
     "output_type": "stream",
     "text": [
      "[ 0.        +0.j         -0.70710678+0.70710678j  0.        +0.j\n",
      "  0.        +0.j        ]\n"
     ]
    }
   ],
   "source": [
    "import numpy as np\n",
    "import math\n",
    " \n",
    " \n",
    "m1 = np.array([[0, 1/math.sqrt(2), 1/math.sqrt(2), 0],\n",
    "                [1j/math.sqrt(2), 0, 0, 1/math.sqrt(2)],\n",
    "                [1/math.sqrt(2), 0, 0, 1j/math.sqrt(2)],\n",
    "                [0, 1/math.sqrt(2), -1/math.sqrt(2), 0]])\n",
    " \n",
    " \n",
    "v1 = np.array([1, 0, 0, 0])\n",
    " \n",
    "click1 = np.dot(m1, v1)\n",
    "click2 = np.dot(m1, click1)\n",
    "click3 = np.dot(m1, click2)\n",
    " \n",
    " \n",
    "print(click3)"
   ]
  }
 ],
 "metadata": {
  "kernelspec": {
   "display_name": ".venv",
   "language": "python",
   "name": "python3"
  },
  "language_info": {
   "codemirror_mode": {
    "name": "ipython",
    "version": 3
   },
   "file_extension": ".py",
   "mimetype": "text/x-python",
   "name": "python",
   "nbconvert_exporter": "python",
   "pygments_lexer": "ipython3",
   "version": "3.12.0"
  }
 },
 "nbformat": 4,
 "nbformat_minor": 2
}
